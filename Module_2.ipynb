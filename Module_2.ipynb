{
 "cells": [
  {
   "cell_type": "code",
   "execution_count": 6,
   "id": "fc947a68-f672-4043-8060-65fcbc8920b0",
   "metadata": {},
   "outputs": [
    {
     "name": "stdout",
     "output_type": "stream",
     "text": [
      "enter: 5\n"
     ]
    },
    {
     "data": {
      "text/plain": [
       "15"
      ]
     },
     "execution_count": 6,
     "metadata": {},
     "output_type": "execute_result"
    }
   ],
   "source": [
    "#while loop \n",
    "n = int(input(\"enter:\"))\n",
    "\n",
    "sum = 0\n",
    "\n",
    "while n>=1:\n",
    "    sum=sum+n\n",
    "    n = n-1\n",
    "sum"
   ]
  },
  {
   "cell_type": "code",
   "execution_count": 25,
   "id": "22d10e04-8b55-40fa-9e93-037da1a39271",
   "metadata": {},
   "outputs": [
    {
     "name": "stdout",
     "output_type": "stream",
     "text": [
      "enter: 7\n"
     ]
    },
    {
     "data": {
      "text/plain": [
       "15"
      ]
     },
     "execution_count": 25,
     "metadata": {},
     "output_type": "execute_result"
    }
   ],
   "source": [
    "n = int(input(\"enter:\"))\n",
    "multiplication = 0\n",
    "while n<=10:\n",
    "    multiplication = multiplication + n\n",
    "    n = n + 2\n",
    "sum"
   ]
  },
  {
   "cell_type": "code",
   "execution_count": null,
   "id": "64ab0aad-8eac-40ba-820a-0803cd52888c",
   "metadata": {},
   "outputs": [],
   "source": [
    "# fle handelling is not to store a data, it just takes input from users \n",
    "#Opening a File: open() function to op\n",
    "#reading a file: reading from a file in Python include read(), readline(), and readlines().\n",
    "\n",
    "#Writing to a File:  This can be done using the write() or writelines() methods in Python.\n",
    "\n",
    "#Closing a File: In Python, you can use the close() method to close a file.\n",
    "\n",
    "#Updating a File: modifying existing data within the file.\n",
    "\n",
    "#File handling is essential for various tasks in programming, such as reading configuration files, processing data stored in files, logging information, and more. It allows programs to interact with the external storage medium (like a hard disk) to store and retrieve data efficiently.\n",
    "\n",
    "#file can be created by writing, append, read\n",
    "# when the file does not exist, we create and write; create and read the file\n",
    "#the file exist and hold some data where we have created the content ; write new content ;\n",
    "   #a)under writing file I'll erase the old content and start writing the new content\n",
    "  #b) under append -- i'll take the content and start adding the new content at last\n",
    "  #c) under read -- i'll open the file and read the data in a file \n",
    "#in file can start adding the new content where  top take the content and we start write from the last character\n",
    "#open the file and read the data in file"
   ]
  },
  {
   "cell_type": "code",
   "execution_count": 12,
   "id": "03a9e61c-0bca-4b8e-bc18-89e35319b2c4",
   "metadata": {},
   "outputs": [],
   "source": [
    "#create a file\n",
    "with open(\"my_file.txt\",mode = \"w+\") as albu:\n",
    "    albu.write(\"hello world\")"
   ]
  },
  {
   "cell_type": "code",
   "execution_count": 2,
   "id": "869a5546-97e3-40f6-9dc3-2e96532de68c",
   "metadata": {},
   "outputs": [
    {
     "ename": "SyntaxError",
     "evalue": "unterminated string literal (detected at line 1) (3610184683.py, line 1)",
     "output_type": "error",
     "traceback": [
      "\u001b[1;36m  Cell \u001b[1;32mIn[2], line 1\u001b[1;36m\u001b[0m\n\u001b[1;33m    data = Bounded by the Indian Ocean on the south, the Arabian Sea on the southwest,the Bay of Bengal on the southeast, it shares land borders with Pakistan to the west;China, Nepal, and Bhutan to the north; and Bangladesh and Myanmar to the east. In the Indian Ocean, India is in the vicinity of Sri Lanka and the Maldives; its Andaman and Nicobar Islands share a maritime border with Thailand, Myanmar, and In\"\u001b[0m\n\u001b[1;37m                                                                                                                                                                                                                                                                                                                                                                                                                             ^\u001b[0m\n\u001b[1;31mSyntaxError\u001b[0m\u001b[1;31m:\u001b[0m unterminated string literal (detected at line 1)\n"
     ]
    }
   ],
   "source": [
    "data = Bounded by the Indian Ocean on the south, the Arabian Sea on the southwest,the Bay of Bengal on the southeast, it shares land bordersPakistan to the west;China, Nepal,Bhutan to the northBangladesh anMyanmar to the eIndian Ocean, India is in the vicinity of Sri Lanka and the Maldives; its Andaman and Nicobar Islands share a maritime border with Thailand, Myanmar, and In\"\n",
    "with open(\"my_file.txt\",mode = \"w+\") as albu:\n",
    "    albu.write(data)"
   ]
  },
  {
   "cell_type": "code",
   "execution_count": 27,
   "id": "850df280-87c7-4ad8-8a8d-6c70f2ce4831",
   "metadata": {},
   "outputs": [],
   "source": [
    "data = \"India, officially the Republic of India, is a country in South Asia. It is the seventh-largest country by area; the most populous country as of June 2023; and from the time of its independence in 1947, the world's most populous\"\n",
    "with open(\"my_file.txt\",mode = \"w+\") as albu:\n",
    "    albu.write(data)\n",
    "    "
   ]
  },
  {
   "cell_type": "code",
   "execution_count": 16,
   "id": "c70690e1-236e-41cc-919b-d37127b844a8",
   "metadata": {},
   "outputs": [],
   "source": [
    "with open(\"my_file.txt\", mode = \"a+\") as albu:\n",
    "    albu.write(\"\\n\\n\\n\")\n",
    "    albu.write(\"hello\")"
   ]
  },
  {
   "cell_type": "code",
   "execution_count": 17,
   "id": "857ec79e-930f-470d-96b5-c7ac4da6eb04",
   "metadata": {},
   "outputs": [
    {
     "name": "stdout",
     "output_type": "stream",
     "text": [
      "India, officially the Republic of India, is a country in South Asia. It is the seventh-largest country by area; the most populous country as of June 2023; and from the time of its independence in 1947, the world's most populous\n",
      "hello\n",
      "\n",
      "\n",
      "hello\n"
     ]
    }
   ],
   "source": [
    "with open(\"my_file.txt\",mode =\"r+\") as albu:\n",
    "    content = albu.read()\n",
    "print(content)"
   ]
  },
  {
   "cell_type": "code",
   "execution_count": 19,
   "id": "f6d95097-1746-4239-ada4-4535bee4b9fa",
   "metadata": {},
   "outputs": [
    {
     "name": "stdout",
     "output_type": "stream",
     "text": [
      "enter your name: nagu\n",
      "enter your age: 24\n",
      "enter your mail: nagu@gmail.com\n",
      "enter your name: naveen\n",
      "enter your age: 26\n",
      "enter your mail: naveen@gmail.com\n",
      "enter your name: suruthi\n",
      "enter your age: 27\n",
      "enter your mail: suruthi@gmail.com\n",
      "enter your name: kisoru\n",
      "enter your age: 28\n",
      "enter your mail: kisoru@gmail.com\n",
      "enter your name: papa\n",
      "enter your age: 2\n",
      "enter your mail: papa@gmail.com\n"
     ]
    }
   ],
   "source": [
    "#take 5 stu in the form of list of dictionaries and add the information about each stu in file \n",
    "#each stu data should present in 1 line \n",
    "for index in range(5):\n",
    "    name = input(\"enter your name:\")\n",
    "    age = input(\"enter your age:\")\n",
    "    mail = input(\"enter your mail:\")\n",
    "    data = {'name':name, 'age' : age, 'mail':mail}\n",
    "    with open(\"my_file.txt\", mode = \"a+\") as albu:\n",
    "        albu.write(str(data))\n",
    "        albu.write(\"\\n\")\n",
    "    "
   ]
  },
  {
   "cell_type": "code",
   "execution_count": 22,
   "id": "88036655-8af9-48d6-a79f-4848587c1fbd",
   "metadata": {},
   "outputs": [],
   "source": [
    "import re"
   ]
  },
  {
   "cell_type": "code",
   "execution_count": 41,
   "id": "a74a9941-e515-4c7d-b884-6a6246f1fa31",
   "metadata": {},
   "outputs": [
    {
     "data": {
      "text/plain": [
       "['.']"
      ]
     },
     "execution_count": 41,
     "metadata": {},
     "output_type": "execute_result"
    }
   ],
   "source": [
    "\n",
    "user_mail = \"papa@gmail.com\"\n",
    "output = re.findall(r'\\.',user_mail)\n",
    "output"
   ]
  },
  {
   "cell_type": "code",
   "execution_count": 43,
   "id": "4a865e9e-21df-4db7-a2e1-2d20ae306aa7",
   "metadata": {},
   "outputs": [
    {
     "data": {
      "text/plain": [
       "'papagmailgmail.com'"
      ]
     },
     "execution_count": 43,
     "metadata": {},
     "output_type": "execute_result"
    }
   ],
   "source": [
    "# to replace a particular charachter in the place of a specific charachter \n",
    "user_mail = \"papa@gmail.com\"\n",
    "x = re.sub(\"@\",\"gmail\",user_mail)\n",
    "x"
   ]
  },
  {
   "cell_type": "code",
   "execution_count": 47,
   "id": "9b0e7a53-e6ba-4eb1-88d0-5d2051610546",
   "metadata": {},
   "outputs": [
    {
     "data": {
      "text/plain": [
       "<re.Match object; span=(10, 11), match='1'>"
      ]
     },
     "execution_count": 47,
     "metadata": {},
     "output_type": "execute_result"
    }
   ],
   "source": [
    "# search for all digit in the given data       # to use all the digits in that data , we will use findall in the place of search\n",
    "user_mail = \"papa@gmail12345.com\"\n",
    "x = re.search('\\d' , user_mail)\n",
    "x"
   ]
  },
  {
   "cell_type": "code",
   "execution_count": 3,
   "id": "0d1e85fb-228c-4543-b8bc-d8296830d8e7",
   "metadata": {},
   "outputs": [
    {
     "name": "stdout",
     "output_type": "stream",
     "text": [
      "g\n",
      "h\n"
     ]
    }
   ],
   "source": [
    "import re\n",
    "user_mail = \"mghg@mail.com\"\n",
    "x = re.search('g' , user_mail)\n",
    "print(user_mail[x.start()])\n",
    "print(user_mail[x.end()])\n"
   ]
  },
  {
   "cell_type": "code",
   "execution_count": null,
   "id": "3a847412-8b4e-48ef-9391-f90139f517f3",
   "metadata": {},
   "outputs": [],
   "source": [
    "# verify the given mail is valid or not\n",
    "#no of charachters in username should be atleast 6\n",
    "#there should be only 1 @ symbol\n",
    "#user name should  start with  alphabate\n",
    "#domain name should have only one dot \".\""
   ]
  },
  {
   "cell_type": "code",
   "execution_count": 7,
   "id": "77fa9e5f-36bc-4ef0-8cab-90cb62028fe9",
   "metadata": {},
   "outputs": [
    {
     "name": "stdout",
     "output_type": "stream",
     "text": [
      "enter gmail: nagasuruthi@gmail.com\n"
     ]
    },
    {
     "name": "stdout",
     "output_type": "stream",
     "text": [
      "False\n",
      "enter correct mail:\n"
     ]
    }
   ],
   "source": [
    "# to verify email is correct or not\n",
    "import re\n",
    "while True:\n",
    "     mail = input(\"enter gmail:\")\n",
    "     a1 = re.findall('@', mail)\n",
    "     a2 = re.search('@' , mail)\n",
    "     a3 = mail[a2.end():]\n",
    "     a4 = mail[:a2.start()]\n",
    "     correct_mail = True \n",
    "     \n",
    "     print(len(a1)!=1)\n",
    "     if ((len(a1) != 1) and (len(a2) <= 6) and (not a2[0].isalpha()) and (len(re.findall(r'\\.', a3)) != 1)):\n",
    "         correct_mail = False\n",
    "     if correct_mail:\n",
    "         print(\"your mail is corrrect\")\n",
    "         break\n",
    "     else:\n",
    "         print(\"ur mail is incorrect:\")\n"
   ]
  },
  {
   "cell_type": "code",
   "execution_count": 14,
   "id": "3036acbf-78c8-4026-a79f-0366e748c931",
   "metadata": {},
   "outputs": [
    {
     "data": {
      "text/plain": [
       "['@']"
      ]
     },
     "execution_count": 14,
     "metadata": {},
     "output_type": "execute_result"
    }
   ],
   "source": [
    "email = \"nagasuruthi@gmail.com\"\n",
    "re.findall('@', email)"
   ]
  },
  {
   "cell_type": "code",
   "execution_count": 22,
   "id": "cd024850-f4b0-41f8-a8c3-017c2cd9519f",
   "metadata": {},
   "outputs": [
    {
     "data": {
      "text/plain": [
       "'@'"
      ]
     },
     "execution_count": 22,
     "metadata": {},
     "output_type": "execute_result"
    }
   ],
   "source": [
    "a[0]"
   ]
  },
  {
   "cell_type": "code",
   "execution_count": 16,
   "id": "bba2da1d-7106-4047-a0a1-c9fa4e957dbe",
   "metadata": {},
   "outputs": [],
   "source": [
    "a = re.search('@' , email)"
   ]
  },
  {
   "cell_type": "code",
   "execution_count": 17,
   "id": "49454f4f-9412-4fe5-acab-dceda1e36b08",
   "metadata": {},
   "outputs": [
    {
     "data": {
      "text/plain": [
       "12"
      ]
     },
     "execution_count": 17,
     "metadata": {},
     "output_type": "execute_result"
    }
   ],
   "source": [
    "a.end()"
   ]
  },
  {
   "cell_type": "code",
   "execution_count": 18,
   "id": "4c67212b-6963-48cd-875f-92b0ed7c0f24",
   "metadata": {},
   "outputs": [
    {
     "data": {
      "text/plain": [
       "11"
      ]
     },
     "execution_count": 18,
     "metadata": {},
     "output_type": "execute_result"
    }
   ],
   "source": [
    "a.start()"
   ]
  },
  {
   "cell_type": "code",
   "execution_count": 19,
   "id": "452ab939-3e5d-4b73-80f0-a6f8cc3750f7",
   "metadata": {},
   "outputs": [],
   "source": [
    "test = 'nagasuruthi@gmail.com'"
   ]
  },
  {
   "cell_type": "code",
   "execution_count": 20,
   "id": "13edb42c-a1a0-468f-92db-ee5a4df3027e",
   "metadata": {},
   "outputs": [
    {
     "data": {
      "text/plain": [
       "'nagasuruthi'"
      ]
     },
     "execution_count": 20,
     "metadata": {},
     "output_type": "execute_result"
    }
   ],
   "source": [
    "test[:11]"
   ]
  },
  {
   "cell_type": "code",
   "execution_count": 21,
   "id": "5d2f0892-8899-47a2-90e5-d27202061cad",
   "metadata": {},
   "outputs": [
    {
     "data": {
      "text/plain": [
       "'gmail.com'"
      ]
     },
     "execution_count": 21,
     "metadata": {},
     "output_type": "execute_result"
    }
   ],
   "source": [
    "test[12:]"
   ]
  },
  {
   "cell_type": "code",
   "execution_count": 32,
   "id": "1b9ccf96-91fb-4a25-85a5-77e180698e7f",
   "metadata": {},
   "outputs": [
    {
     "name": "stdout",
     "output_type": "stream",
     "text": [
      "[\"India, officially the Republic of India, is a country in South Asia. It is the seventh-largest country by area; the most populous country as of June 2023; and from the time of its independence in 1947, the world's most populous\"]\n"
     ]
    }
   ],
   "source": [
    "#to read a data line by line , we can use readlines()\n",
    "with open(\"my_file.txt\",mode =\"r+\") as albu:\n",
    "    content = albu.readlines()\n",
    "print(content)\n"
   ]
  },
  {
   "cell_type": "code",
   "execution_count": 36,
   "id": "a724dded-6b72-4a79-b451-19afd56c9cd9",
   "metadata": {},
   "outputs": [
    {
     "name": "stdout",
     "output_type": "stream",
     "text": [
      "India, officially the Republic of India, is a country in South Asia. It is the seventh-largest country by area; the most populous country as of June 2023; and from the time of its independence in 1947, the world's most populous\n"
     ]
    }
   ],
   "source": [
    "with open(\"my_file.txt\",mode =\"r+\") as albu:\n",
    "    content = albu.readlines()\n",
    "print(content[0])"
   ]
  },
  {
   "cell_type": "code",
   "execution_count": 49,
   "id": "75e18bf3-2cbc-4dcc-9cfd-099edf68f42e",
   "metadata": {},
   "outputs": [
    {
     "name": "stdout",
     "output_type": "stream",
     "text": [
      "4\n",
      "5\n"
     ]
    }
   ],
   "source": [
    "# to find the nummber of charachters present in start and in the end , we will use start(), end()\n",
    "user_mail = \"papa@gmail.com\"\n",
    "x= re.search(\"@\",user_mail)\n",
    "print(x.start())\n",
    "print(x.end())"
   ]
  },
  {
   "cell_type": "code",
   "execution_count": 51,
   "id": "64123415-e27c-466b-bff1-abea9fcab3e0",
   "metadata": {},
   "outputs": [
    {
     "data": {
      "text/plain": [
       "'nagu'"
      ]
     },
     "execution_count": 51,
     "metadata": {},
     "output_type": "execute_result"
    }
   ],
   "source": [
    "\n",
    "email[:x.start()]"
   ]
  },
  {
   "cell_type": "code",
   "execution_count": 54,
   "id": "621dce39-cacd-4419-b820-b92a2d3adf70",
   "metadata": {},
   "outputs": [
    {
     "data": {
      "text/plain": [
       "'nagu@'"
      ]
     },
     "execution_count": 54,
     "metadata": {},
     "output_type": "execute_result"
    }
   ],
   "source": [
    "email[:x.end()]"
   ]
  },
  {
   "cell_type": "code",
   "execution_count": 55,
   "id": "341c4278-6196-46ac-a1ca-4b346019155f",
   "metadata": {},
   "outputs": [
    {
     "data": {
      "text/plain": [
       "'gamil.com'"
      ]
     },
     "execution_count": 55,
     "metadata": {},
     "output_type": "execute_result"
    }
   ],
   "source": [
    "email[x.end():]"
   ]
  },
  {
   "cell_type": "code",
   "execution_count": null,
   "id": "08420db6-ee6b-4518-9a00-f9ee2dc9a310",
   "metadata": {},
   "outputs": [],
   "source": [
    "# to check whether the email is correct or not \n",
    "# verify the given mail is valid or not\n",
    "#no of charachters in username should be atleast 6\n",
    "#there should be only 1 @ symbol\n",
    "#user name should not start with  alphabate\n",
    "#domain name should have only one dot \".\"\n"
   ]
  },
  {
   "cell_type": "code",
   "execution_count": null,
   "id": "46b5e759-f2de-4a6c-82c0-d798ea9d440c",
   "metadata": {},
   "outputs": [],
   "source": []
  },
  {
   "cell_type": "code",
   "execution_count": null,
   "id": "326710a6-f2bb-46a7-8679-db0ab49c2c86",
   "metadata": {},
   "outputs": [],
   "source": []
  },
  {
   "cell_type": "markdown",
   "id": "17830d5d-20b1-44e3-832f-197e00486b38",
   "metadata": {},
   "source": [
    "#Pickling \n",
    "-->SAVE SPACE\n",
    "-->LOAD DATA FAST\n",
    "-->STORE AS BINARY FORMAT\n",
    "-->STORE LARGE DATA IN SMALL FORMAT\n",
    "-->GIVEN DATA ARE STORED AS BINARY FILE THROUGH BYTE STREAMS ARE CALLED AS SERIALIZATION --->TO STORE WE USE (DUMP)\n",
    "-->TO COLLECT DATA WHICH WAS STORED IN BINARY FILE ,WE GO THROUGH BYTE STREAM FROM BINARY FILE CALLED AS DESERIALISATION.-->TO RETRIVE DATA--USE(LOAD)"
   ]
  },
  {
   "cell_type": "code",
   "execution_count": null,
   "id": "2b121b3c-1984-4ca4-a974-dbfbebb9b94b",
   "metadata": {},
   "outputs": [],
   "source": [
    "# pickling\n",
    "data = {\n",
    "    'name' : 'nagu'\n",
    "    'age' :23\n",
    "    'email' : 'nagu@gmail.com'}\n",
    "with open(\"my_file.txt\",mode = \"w+\") as albu:\n",
    "    albu.write(data)"
   ]
  },
  {
   "cell_type": "code",
   "execution_count": 3,
   "id": "6be4a0ce-cfa3-46d0-ba40-d575e131e731",
   "metadata": {},
   "outputs": [],
   "source": [
    "import pickle"
   ]
  },
  {
   "cell_type": "code",
   "execution_count": 4,
   "id": "2bb5a5d4-8848-4a48-b840-3fc3f9a42ccb",
   "metadata": {},
   "outputs": [],
   "source": [
    "#TO STORE THE DATA AS BINARY FILE , WE USE \"wb\"\n",
    "data = {\n",
    "    'name' : 'nagu',\n",
    "    'age' : 23,\n",
    "    'email' : 'nagu@gmail.com'\n",
    "}\n",
    "with open(\"pickling.pkl\",'wb') as dt:\n",
    "    pickle.dump(data,dt)\n",
    "    "
   ]
  },
  {
   "cell_type": "code",
   "execution_count": 5,
   "id": "eec02913-e941-4c56-bade-e1c2c0aeeeeb",
   "metadata": {},
   "outputs": [
    {
     "name": "stdout",
     "output_type": "stream",
     "text": [
      "{'name': 'nagu', 'age': 23, 'email': 'nagu@gmail.com'}\n"
     ]
    }
   ],
   "source": [
    "#TO READ THE DATA FROM THE BINARY FILE , WE USE \"rb\"\n",
    "with open(\"pickling.pkl\",'rb') as dt:\n",
    "    content = pickle.load(dt)\n",
    "print(content)"
   ]
  },
  {
   "cell_type": "code",
   "execution_count": 7,
   "id": "ebedd481-9a77-4ed4-aa01-2ff1653b9a23",
   "metadata": {},
   "outputs": [
    {
     "name": "stdout",
     "output_type": "stream",
     "text": [
      "enter your name: njmhyj\n",
      "enter your age: 7\n",
      "enter your mail: mnjhg@\n",
      "enter your name: jhjyj\n",
      "enter your age: 7\n",
      "enter your mail: mjhj@\n",
      "enter your name: jgjhygt\n",
      "enter your age: 6\n",
      "enter your mail: jhgj@\n",
      "enter your name: hgfj\n",
      "enter your age: 5\n",
      "enter your mail: nghv@\n",
      "enter your name: ght\n",
      "enter your age: 6\n",
      "enter your mail: hgfg@\n"
     ]
    }
   ],
   "source": [
    "output =[]\n",
    "for index in range(5):\n",
    "    name = input(\"enter your name:\")\n",
    "    age = input(\"enter your age:\")\n",
    "    mail = input(\"enter your mail:\")\n",
    "    output.append( {'name':name, 'age' : age, 'mail':mail})\n",
    "    \n",
    "   \n",
    "                "
   ]
  },
  {
   "cell_type": "code",
   "execution_count": 8,
   "id": "f0bff3c2-1609-4b58-a459-07afd92085e5",
   "metadata": {},
   "outputs": [],
   "source": [
    "with open('pickling.pkl', 'wb') as data:\n",
    "    pickle.dump(output, data)    \n",
    "                "
   ]
  },
  {
   "cell_type": "code",
   "execution_count": 9,
   "id": "f40ab7a3-5575-45c2-bdfd-feab727165bd",
   "metadata": {},
   "outputs": [
    {
     "name": "stdout",
     "output_type": "stream",
     "text": [
      "[{'name': 'njmhyj', 'age': '7', 'mail': 'mnjhg@'}, {'name': 'jhjyj', 'age': '7', 'mail': 'mjhj@'}, {'name': 'jgjhygt', 'age': '6', 'mail': 'jhgj@'}, {'name': 'hgfj', 'age': '5', 'mail': 'nghv@'}, {'name': 'ght', 'age': '6', 'mail': 'hgfg@'}]\n"
     ]
    }
   ],
   "source": [
    "with open(\"pickling.pkl\",'rb') as data:\n",
    "    content = pickle.load(data)\n",
    "print(content)"
   ]
  },
  {
   "cell_type": "raw",
   "id": "f2943062-ec9c-4521-a589-73af4e76fad1",
   "metadata": {},
   "source": []
  },
  {
   "cell_type": "code",
   "execution_count": null,
   "id": "323e9d98-abd5-4cfd-a315-50cd1e991141",
   "metadata": {},
   "outputs": [],
   "source": []
  },
  {
   "cell_type": "code",
   "execution_count": 10,
   "id": "573edae3-5b48-4217-96b3-f1884f7bb257",
   "metadata": {},
   "outputs": [],
   "source": [
    "import json"
   ]
  },
  {
   "cell_type": "code",
   "execution_count": 25,
   "id": "7dccf88a-6460-4261-897c-cdc966d937ac",
   "metadata": {},
   "outputs": [
    {
     "name": "stdout",
     "output_type": "stream",
     "text": [
      "{'name': ' nagu', ' age': 32, 'mail': 'nagu@gmail'}\n"
     ]
    }
   ],
   "source": [
    "data = {\n",
    "    \"name\" :\" nagu\",\n",
    "   \" age\" :32,\n",
    "    \"mail\" : \"nagu@gmail\"\n",
    "}\n",
    "with open(\"my_file.json\",\"w+\") as x:\n",
    "    json.dump(data,x)\n",
    "with open(\"my_file.json\",\"r+\") as x:\n",
    "    content = json.load(x)\n",
    "print(content)"
   ]
  },
  {
   "cell_type": "code",
   "execution_count": 26,
   "id": "e26d6846-786b-45a7-b727-786494248847",
   "metadata": {},
   "outputs": [
    {
     "name": "stdout",
     "output_type": "stream",
     "text": [
      "{'name': ' nagu', ' age': 32, 'mail': 'nagu@gmail'}\n"
     ]
    }
   ],
   "source": [
    "with open(\"my_file.json\",\"r+\") as x:\n",
    "    content = json.load(x)\n",
    "print(content)"
   ]
  },
  {
   "cell_type": "code",
   "execution_count": 31,
   "id": "bdf08705-87ec-4881-a794-e12dff3d2f41",
   "metadata": {},
   "outputs": [
    {
     "name": "stdout",
     "output_type": "stream",
     "text": [
      "enter your name: nagu\n",
      "enter your age: 9\n",
      "enter your mail: .,mjhg\n",
      "enter your name: hgyt\n",
      "enter your age: 8\n",
      "enter your mail: jhjyg\n",
      "enter your name: 9\n",
      "enter your age: ?mnfg\n",
      "enter your mail: kjg\n",
      "enter your name: 0\n",
      "enter your age: jhjg\n",
      "enter your mail: 6\n",
      "enter your name: hjg\n",
      "enter your age: 9\n",
      "enter your mail: nhj\n"
     ]
    },
    {
     "name": "stdout",
     "output_type": "stream",
     "text": [
      "[{'name': 'nagu', 'age': '9', 'mail': '.,mjhg'}, {'name': 'hgyt', 'age': '8', 'mail': 'jhjyg'}, {'name': '9', 'age': '?mnfg', 'mail': 'kjg'}, {'name': '0', 'age': 'jhjg', 'mail': '6'}, {'name': 'hjg', 'age': '9', 'mail': 'nhj'}]\n"
     ]
    }
   ],
   "source": [
    "output =[]\n",
    "for index in range(5):\n",
    "    name = input(\"enter your name:\")\n",
    "    age = input(\"enter your age:\")\n",
    "    mail = input(\"enter your mail:\")\n",
    "    output.append( {'name':name, 'age' : age, 'mail':mail})\n",
    "with open(\"my_file.json\",\"w+\") as x:\n",
    "    json.dump(output,x)\n",
    "with open(\"my_file.json\",\"r+\") as x:\n",
    "    content = json.load(x)\n",
    "print(content)\n",
    "    "
   ]
  },
  {
   "cell_type": "code",
   "execution_count": 33,
   "id": "2f9c8d3a-57b4-4705-a689-350a35adc189",
   "metadata": {},
   "outputs": [
    {
     "name": "stdout",
     "output_type": "stream",
     "text": [
      "MD92 Poonam DS guvi\n",
      "MD92 Poonam DS guvi\n",
      "MD92 Poonam DS guvi\n"
     ]
    }
   ],
   "source": [
    "#classes\n",
    "class Learners: #class is predefined charachter, its a keyword , cant change.. that charachter(Animal) should always start with caps\n",
    "    batch = 'MD92'\n",
    "    mentor = 'Poonam'\n",
    "    course = 'DS'\n",
    "    institute = 'guvi' #------ these are called as class variable\n",
    "\n",
    "stu = Learners() #----() called constructor\n",
    "stu1 = Learners()\n",
    "stu2 = Learners()\n",
    "print(stu1.batch, stu1.mentor, stu1.course, stu1.institute)\n",
    "print(stu2.batch, stu2.mentor, stu2.course, stu2.institute)\n",
    "print(stu.batch, stu.mentor, stu.course, stu.institute)\n",
    "\n",
    "    \n",
    "    \n",
    "    "
   ]
  },
  {
   "cell_type": "code",
   "execution_count": 41,
   "id": "5fb3fd1e-13cc-4da6-bb08-2c516af1ea3e",
   "metadata": {},
   "outputs": [
    {
     "name": "stdout",
     "output_type": "stream",
     "text": [
      "enter your name: nagu\n",
      "enter your mail: nagu@gmail.com\n",
      "enter your name: naveen\n",
      "enter your mail: naveen@gmail.com\n",
      "enter your name: kisoru\n",
      "enter your mail: kisoru@gmail.com\n"
     ]
    },
    {
     "name": "stdout",
     "output_type": "stream",
     "text": [
      "MD92 Poonam DS guvi\n",
      "MD92 Poonam DS guvi\n",
      "MD92 Poonam DS guvi\n"
     ]
    }
   ],
   "source": [
    "class Learners:\n",
    "    batch = 'MD92'\n",
    "    mentor = 'Poonam'\n",
    "    course = 'DS'\n",
    "    institute = 'guvi' #------ these are called as class variable\n",
    "    def __init__(self): # self means the object under consideration , is the object that we create, __init__ is a predefined\n",
    "                                                            # self is a constructor \n",
    "        self.name = input(\"enter your name:\")\n",
    "        self.email = input(\"enter your mail:\")\n",
    "        \n",
    "stu = Learners() #---- () is a call constructor\n",
    "stu1 = Learners()\n",
    "stu2 = Learners()\n",
    "print(stu1.batch, stu1.mentor, stu1.course, stu1.institute)\n",
    "print(stu2.batch, stu2.mentor, stu2.course, stu2.institute)\n",
    "print(stu.batch, stu.mentor, stu.course, stu.institute)"
   ]
  },
  {
   "cell_type": "code",
   "execution_count": 38,
   "id": "b9f13995-54e2-4a32-9b55-14ec25955192",
   "metadata": {},
   "outputs": [
    {
     "name": "stdout",
     "output_type": "stream",
     "text": [
      "enter: sweet\n",
      "enter name : mango\n",
      "enter location: tn\n",
      "enter: good\n",
      "enter name : bri\n",
      "enter location: mh\n",
      "enter: nmjh\n",
      "enter name : ngj\n",
      "enter location: bjgj\n"
     ]
    },
    {
     "name": "stdout",
     "output_type": "stream",
     "text": [
      "true\n",
      "true\n",
      "true\n"
     ]
    }
   ],
   "source": [
    "class fruit:\n",
    "    seed = 'true'\n",
    "    def __init__(self):\n",
    "        self.taste = input(\"enter:\")\n",
    "        self.name = input(\"enter name :\")\n",
    "        self.location = input(\"enter location:\")\n",
    "fru1 = fruit()\n",
    "fru2 = fruit()\n",
    "fru3 = fruit()\n",
    "print(fru1.seed)\n",
    "print(fru2.seed)\n",
    "print(fru3.seed)\n",
    "        "
   ]
  },
  {
   "cell_type": "code",
   "execution_count": 40,
   "id": "30fabba4-7298-4822-99a4-a07af8879a20",
   "metadata": {},
   "outputs": [
    {
     "data": {
      "text/plain": [
       "{'taste': 'sweet', 'name': 'mango', 'location': 'tn'}"
      ]
     },
     "execution_count": 40,
     "metadata": {},
     "output_type": "execute_result"
    }
   ],
   "source": [
    "class fruit:\n",
    "    seed = True\n",
    "    def __init__(self, taste,name, location):\n",
    "        self.taste = taste\n",
    "        self.name = name\n",
    "        self.location = location\n",
    "fru1 = fruit(\"sweet\",\"mango\",\"tn\")\n",
    "fru2 = fruit(\"bitter\", \"bitterguard\", \"nm\")\n",
    "fru1.__dict__\n"
   ]
  },
  {
   "cell_type": "code",
   "execution_count": 47,
   "id": "2aff06a2-22a6-4da5-88a2-d169f0aeac91",
   "metadata": {},
   "outputs": [
    {
     "name": "stdout",
     "output_type": "stream",
     "text": [
      "True\n",
      "True\n",
      "sweet\n",
      "bitter\n",
      "mango\n",
      "bitterguard\n",
      "tn\n"
     ]
    },
    {
     "ename": "AttributeError",
     "evalue": "'fruit' object has no attribute 'loacation'",
     "output_type": "error",
     "traceback": [
      "\u001b[1;31m---------------------------------------------------------------------------\u001b[0m",
      "\u001b[1;31mAttributeError\u001b[0m                            Traceback (most recent call last)",
      "Cell \u001b[1;32mIn[47], line 17\u001b[0m\n\u001b[0;32m     15\u001b[0m \u001b[38;5;28mprint\u001b[39m(fru2\u001b[38;5;241m.\u001b[39mname)\n\u001b[0;32m     16\u001b[0m \u001b[38;5;28mprint\u001b[39m(fru1\u001b[38;5;241m.\u001b[39mlocation)\n\u001b[1;32m---> 17\u001b[0m \u001b[38;5;28mprint\u001b[39m(fru2\u001b[38;5;241m.\u001b[39mloacation)\n",
      "\u001b[1;31mAttributeError\u001b[0m: 'fruit' object has no attribute 'loacation'"
     ]
    }
   ],
   "source": [
    "class fruit:\n",
    "    seed = True\n",
    "    def __init__(self, taste,name, location):\n",
    "        self.taste = taste\n",
    "        self.name = name\n",
    "        self.location = location\n",
    "fru1 = fruit(\"sweet\",\"mango\",\"tn\")\n",
    "fru2 = fruit(\"bitter\", \"bitterguard\", \"nm\")\n",
    "\n",
    "print(fru1.seed)\n",
    "print(fru2.seed)\n",
    "print(fru1.taste)\n",
    "print(fru2.taste)\n",
    "print(fru1.name)\n",
    "print(fru2.name)\n",
    "print(fru1.location)\n",
    "print(fru2.loacation)\n",
    "        \n",
    "\n"
   ]
  },
  {
   "cell_type": "code",
   "execution_count": 17,
   "id": "f5acf1bd-32bc-4580-9462-38ba34c4dc18",
   "metadata": {},
   "outputs": [
    {
     "name": "stdout",
     "output_type": "stream",
     "text": [
      "enter your id: 65\n",
      "enter your name: nagu\n",
      "enter your location: tn\n",
      "enter your birth date: naveen\n",
      "enter your id: 54\n",
      "enter your name: naveen\n",
      "enter your location: kr\n",
      "enter your birth date: 12\n"
     ]
    },
    {
     "name": "stdout",
     "output_type": "stream",
     "text": [
      "poonam 20000\n",
      "thillai 32000\n"
     ]
    }
   ],
   "source": [
    "class Employee:\n",
    "    company_name = \"amazon\"\n",
    "    dedpartment = \"ds\"\n",
    "    uniform = 'black'\n",
    "    domain = \"IT\"\n",
    "    def __init__(self, manager, salary):\n",
    "        self.id = input(\"enter your id:\")\n",
    "        self.name = input(\"enter your name:\")\n",
    "        self.location = input(\"enter your location:\")\n",
    "        self.date_of_birth = input(\"enter your birth date:\")\n",
    "        self.manager = manager\n",
    "        self.salary = salary\n",
    "e1 = Employee(\"poonam\",20000)\n",
    "e2 = Employee(\"thillai\",32000)\n",
    "\n",
    "\n",
    "print( e1.manager, e1.salary)\n",
    "print( e2.manager, e2.salary)\n",
    "\n",
    "\n",
    "    "
   ]
  },
  {
   "cell_type": "code",
   "execution_count": 18,
   "id": "912144fe-2b27-4310-82a3-e752d1dd4097",
   "metadata": {},
   "outputs": [
    {
     "name": "stdout",
     "output_type": "stream",
     "text": [
      "enter your id: 21\n",
      "enter your name: nagu\n",
      "enter your location: tn\n",
      "enter your birth date: 20\n",
      "enter your id: 23\n",
      "enter your name: naveen\n",
      "enter your location: kr\n",
      "enter your birth date: 23\n"
     ]
    },
    {
     "data": {
      "text/plain": [
       "{'id': '23',\n",
       " 'name': 'naveen',\n",
       " 'location': 'kr',\n",
       " 'date_of_birth': '23',\n",
       " 'manager': 'thillai',\n",
       " 'salary': 32000}"
      ]
     },
     "execution_count": 18,
     "metadata": {},
     "output_type": "execute_result"
    }
   ],
   "source": [
    "class Employee:\n",
    "    company_name = \"amazon\"\n",
    "    dedpartment = \"ds\"\n",
    "    uniform = 'black'\n",
    "    domain = \"IT\"\n",
    "    def __init__(self, manager, salary):\n",
    "        self.id = input(\"enter your id:\")\n",
    "        self.name = input(\"enter your name:\")\n",
    "        self.location = input(\"enter your location:\")\n",
    "        self.date_of_birth = input(\"enter your birth date:\")\n",
    "        self.manager = manager\n",
    "        self.salary = salary\n",
    "e1 = Employee(\"poonam\",20000)\n",
    "e2 = Employee(\"thillai\",32000)\n",
    "e1.__dict__\n",
    "e2.__dict__"
   ]
  },
  {
   "cell_type": "code",
   "execution_count": 34,
   "id": "2130c97e-9d3c-4a7d-ba80-a3c8a320c48d",
   "metadata": {},
   "outputs": [
    {
     "name": "stdout",
     "output_type": "stream",
     "text": [
      "enter your id: 23\n",
      "enter your location: tamilnadu\n",
      "enter your birth date: 20\n",
      "enter your id: 34\n",
      "enter your location: kerala\n",
      "enter your birth date: 12\n"
     ]
    },
    {
     "name": "stdout",
     "output_type": "stream",
     "text": [
      "nagu\n",
      "naveen\n",
      "{'id': '23', 'name': 'nagu', 'location': 'tamilnadu', 'date_of_birth': '20', 'manager': 'poonam', 'salary': 20000}\n",
      "{'id': '34', 'name': 'naveen', 'location': 'kerala', 'date_of_birth': '12', 'manager': 'thillai', 'salary': 32000}\n",
      "nagu\n",
      "{'id': '23', 'name': 'nagu', 'location': 'tamilnadu', 'date_of_birth': '20', 'manager': 'poonam', 'salary': 20000, 'n_salary': 20000.0, 'bonus': 1000}\n"
     ]
    }
   ],
   "source": [
    "class Employee:\n",
    "    company_name = \"amazon\"\n",
    "    department = \"ds\"\n",
    "    uniform = 'black'\n",
    "    domain = \"IT\"\n",
    "\n",
    "    def __init__(self,name, manager, salary):\n",
    "        self.id = input(\"enter your id:\")\n",
    "        self.name = name\n",
    "        self.location = input(\"enter your location:\")\n",
    "        self.date_of_birth = input(\"enter your birth date:\")\n",
    "        self.manager = manager\n",
    "        self.salary = salary\n",
    "\n",
    "    def increment(self):\n",
    "        self.n_salary = self.salary*1.00\n",
    "        \n",
    "    def bonus(self):\n",
    "        if self.n_salary>=200000:\n",
    "            self.bonus = 3000\n",
    "        elif self.n_salary>=3000000:\n",
    "            self.bonus = 4000\n",
    "        elif self.n_salary >= 4000000:\n",
    "            self.bonus = 2000\n",
    "        else:\n",
    "             self.bonus =1000\n",
    "\n",
    "e1 = Employee(\"nagu\",\"poonam\",20000)\n",
    "e2 = Employee(\"naveen\",\"thillai\",32000)\n",
    "print(e1.name)\n",
    "print(e2.name)\n",
    "print(e1.__dict__)\n",
    "e1.increment()\n",
    "print(e2.__dict__)\n",
    "print(e1.name)\n",
    "e1.bonus()\n",
    "print(e1.__dict__)\n",
    "\n"
   ]
  },
  {
   "cell_type": "code",
   "execution_count": 2,
   "id": "e5b3a25b-aa36-4118-a202-fdfd40ca7e78",
   "metadata": {},
   "outputs": [
    {
     "name": "stdout",
     "output_type": "stream",
     "text": [
      "enter num: 23 54 76 765 342\n"
     ]
    },
    {
     "data": {
      "text/plain": [
       "[23, 54, 76, 765, 342]"
      ]
     },
     "execution_count": 2,
     "metadata": {},
     "output_type": "execute_result"
    }
   ],
   "source": [
    "invest = [int(i) for i in input(\"enter num:\").split()]\n",
    "invest"
   ]
  },
  {
   "cell_type": "code",
   "execution_count": null,
   "id": "0ca9cfd6-f04c-4350-8e96-6d8ece27af40",
   "metadata": {},
   "outputs": [],
   "source": []
  },
  {
   "cell_type": "code",
   "execution_count": 5,
   "id": "549a9e64-6934-480d-8972-58db82a549a7",
   "metadata": {},
   "outputs": [],
   "source": [
    "with open(r\"my_text_file.text\",mode=\"a+\")as my_file:\n",
    "    my_file.write(\"im nagu\")"
   ]
  },
  {
   "cell_type": "code",
   "execution_count": 11,
   "id": "bf97a62a-1d9e-4e1f-b688-20f21845b496",
   "metadata": {},
   "outputs": [
    {
     "data": {
      "text/plain": [
       "'im nagu'"
      ]
     },
     "execution_count": 11,
     "metadata": {},
     "output_type": "execute_result"
    }
   ],
   "source": [
    "with open(r\"my_text_file.text\",mode=\"r+\")as my_file:\n",
    "    data = my_file.read()\n",
    "data"
   ]
  },
  {
   "cell_type": "code",
   "execution_count": 15,
   "id": "57a9a097-4777-46ea-b291-cf4f658658b9",
   "metadata": {},
   "outputs": [],
   "source": [
    "import pickle\n",
    "data={\n",
    "    \"name\" : \"hg\",\n",
    "    \"age\" : 21\n",
    "}\n",
    "\n",
    "with open(r\"pickle_text_file.text\",mode=\"wb\")as my_file:\n",
    "    pickle.dump(data,my_file)"
   ]
  },
  {
   "cell_type": "code",
   "execution_count": 19,
   "id": "aa4f96af-381d-4c8b-bad1-b1860cba91f8",
   "metadata": {},
   "outputs": [
    {
     "data": {
      "text/plain": [
       "{'name': 'hg', 'age': 21}"
      ]
     },
     "execution_count": 19,
     "metadata": {},
     "output_type": "execute_result"
    }
   ],
   "source": [
    "with open(r\"pickle_text_file.text\",mode=\"rb\")as my_file:\n",
    "    data = pickle.load(my_file)\n",
    "data"
   ]
  },
  {
   "cell_type": "code",
   "execution_count": 20,
   "id": "a1ae50c7-7cad-4f11-941f-83ad4bdc26ff",
   "metadata": {},
   "outputs": [],
   "source": [
    "import pdb"
   ]
  },
  {
   "cell_type": "code",
   "execution_count": null,
   "id": "25c8b63f-5175-4694-87b8-892036220c6b",
   "metadata": {},
   "outputs": [],
   "source": [
    "# here we used n to trace the next line \n",
    "# we used c which means complete, it will trace the data untill find the trace point "
   ]
  },
  {
   "cell_type": "code",
   "execution_count": 27,
   "id": "6fb79758-82de-4cd0-8f1c-de7e21036ded",
   "metadata": {},
   "outputs": [
    {
     "name": "stdout",
     "output_type": "stream",
     "text": [
      "enter number: 7\n"
     ]
    },
    {
     "name": "stdout",
     "output_type": "stream",
     "text": [
      "--Return--\n",
      "None\n",
      "> \u001b[1;32mc:\\users\\green gen tech\\appdata\\local\\temp\\ipykernel_380\\345846401.py\u001b[0m(3)\u001b[0;36m<module>\u001b[1;34m()\u001b[0m\n",
      "\n"
     ]
    },
    {
     "name": "stdout",
     "output_type": "stream",
     "text": [
      "ipdb>  sum\n"
     ]
    },
    {
     "name": "stdout",
     "output_type": "stream",
     "text": [
      "0\n"
     ]
    },
    {
     "name": "stdout",
     "output_type": "stream",
     "text": [
      "ipdb>  c\n"
     ]
    },
    {
     "ename": "NameError",
     "evalue": "name 'num' is not defined",
     "output_type": "error",
     "traceback": [
      "\u001b[1;31m---------------------------------------------------------------------------\u001b[0m",
      "\u001b[1;31mNameError\u001b[0m                                 Traceback (most recent call last)",
      "Cell \u001b[1;32mIn[27], line 5\u001b[0m\n\u001b[0;32m      3\u001b[0m pdb\u001b[38;5;241m.\u001b[39mset_trace()\n\u001b[0;32m      4\u001b[0m \u001b[38;5;28msum\u001b[39m \u001b[38;5;241m=\u001b[39m \u001b[38;5;241m0\u001b[39m\n\u001b[1;32m----> 5\u001b[0m \u001b[38;5;28;01mfor\u001b[39;00m i \u001b[38;5;129;01min\u001b[39;00m \u001b[38;5;28mrange\u001b[39m(\u001b[38;5;241m1\u001b[39m,num\u001b[38;5;241m+\u001b[39m\u001b[38;5;241m1\u001b[39m):\n\u001b[0;32m      6\u001b[0m     \u001b[38;5;28msum\u001b[39m \u001b[38;5;241m=\u001b[39m \u001b[38;5;28msum\u001b[39m\u001b[38;5;241m+\u001b[39mi\n\u001b[0;32m      7\u001b[0m     pdb\u001b[38;5;241m.\u001b[39mset_trace()\n",
      "\u001b[1;31mNameError\u001b[0m: name 'num' is not defined"
     ]
    }
   ],
   "source": [
    "import pdb\n",
    "name = input(\"enter number:\")\n",
    "pdb.set_trace()\n",
    "sum = 0\n",
    "for i in range(1,num+1):\n",
    "    sum = sum+i\n",
    "    pdb.set_trace()"
   ]
  },
  {
   "cell_type": "markdown",
   "id": "721b665e-5909-40d3-ae9b-653d83b597b1",
   "metadata": {},
   "source": [
    "# CLASSES"
   ]
  },
  {
   "cell_type": "markdown",
   "id": "e8997632-386b-431c-b9b3-6a378b39ea11",
   "metadata": {},
   "source": [
    "# class is building a plan based on blueprint, plan, map, etc..by using single class we can build multiple functions"
   ]
  },
  {
   "cell_type": "markdown",
   "id": "8e891813-a401-4292-b0f3-5572fd6d021d",
   "metadata": {},
   "source": [
    "# --> class is predefined charachter and object is a user defined character like class has Buiding and object is stone, cement\n",
    "# ==> attributes are variable that belongs to a class where it always public and we use it with dot operator(.) like building.stone "
   ]
  },
  {
   "cell_type": "code",
   "execution_count": 6,
   "id": "730c526a-82b1-4555-a033-9435456bb94e",
   "metadata": {},
   "outputs": [
    {
     "name": "stdout",
     "output_type": "stream",
     "text": [
      "MD92 9087\n",
      "MD92 9087\n"
     ]
    }
   ],
   "source": [
    "class Learners:   #--->predefined keyword\n",
    "    Batch = \"MD92\"    #---> class level variable which can't be changed, remains same \n",
    "    contact = 9087 #---->class level variable which can't be changed, remains same \n",
    "stu1 = Learners() \n",
    "stu2 = Learners() \n",
    "print(stu1.Batch, stu1.contact) #---> to call directly from the class variables \n",
    "print(stu2.Batch, stu2.contact) "
   ]
  },
  {
   "cell_type": "code",
   "execution_count": 11,
   "id": "7cfd08ee-006d-4a81-9e7f-92b2004e2422",
   "metadata": {},
   "outputs": [
    {
     "name": "stdout",
     "output_type": "stream",
     "text": [
      "enter: nagu\n",
      "enter: nagu@gmail.com\n",
      "enter: naveen\n",
      "enter: naveen@gmail.com\n"
     ]
    },
    {
     "name": "stdout",
     "output_type": "stream",
     "text": [
      "MD92 9087 nagu nagu@gmail.com\n",
      "MD92 9087 naveen naveen@gmail.com\n"
     ]
    }
   ],
   "source": [
    "class Learners:   #--->predefined keyword\n",
    "    Batch = \"MD92\"    #---> class level variable which can't be changed, remains same \n",
    "    contact = 9087 #---->class level variable which can't be changed, remains same \n",
    "    def __init__(self): # to call the object level variables , we need to create constructor(__init__), here we need not to call the any charachters \n",
    "        self.name= input(\"enter:\") #its a object level variable\n",
    "        self.email= input(\"enter:\") #its a object level variable\n",
    "stu1 = Learners()\n",
    "stu2 = Learners()\n",
    "print(stu1.Batch, stu1.contact, stu1.name, stu1.email)\n",
    "print(stu2.Batch, stu2.contact, stu2.name, stu2.email)\n",
    "\n"
   ]
  },
  {
   "cell_type": "code",
   "execution_count": 17,
   "id": "d07e1baa-ea3b-4ffa-a432-fbcd04ce60ff",
   "metadata": {},
   "outputs": [
    {
     "name": "stdout",
     "output_type": "stream",
     "text": [
      "true nagu nagu@gmail.com\n",
      "true naveen naveen@gmail.com\n"
     ]
    }
   ],
   "source": [
    "class Fruits:\n",
    "    seed = \"true\"\n",
    "    def __init__(self,name,email):\n",
    "        self.name = name\n",
    "        self.email = email\n",
    "a = Fruits(\"nagu\",\"nagu@gmail.com\")\n",
    "b= Fruits(\"naveen\",\"naveen@gmail.com\")\n",
    "print(a.seed, a.name, a.email)\n",
    "print(b.seed, b.name, b.email)"
   ]
  },
  {
   "cell_type": "code",
   "execution_count": 18,
   "id": "5a2ef707-1a75-4fdc-b065-27eb48ea0493",
   "metadata": {},
   "outputs": [
    {
     "name": "stdout",
     "output_type": "stream",
     "text": [
      " nagu\n",
      " nagu@gmail.com\n",
      " naveen\n",
      " naveen@gmail.com\n"
     ]
    }
   ],
   "source": [
    "class Fruits:\n",
    "    seed = \"true\"\n",
    "    def __init__(self):\n",
    "        self.name = input()\n",
    "        self.email = input()\n",
    "a = Fruits()\n",
    "b = Fruits()"
   ]
  },
  {
   "cell_type": "code",
   "execution_count": 20,
   "id": "acdd732b-e1aa-4e43-b578-bb0a71573e17",
   "metadata": {},
   "outputs": [
    {
     "data": {
      "text/plain": [
       "{'name': 'nagu', 'email': 'nagu@gmail.com'}"
      ]
     },
     "execution_count": 20,
     "metadata": {},
     "output_type": "execute_result"
    }
   ],
   "source": [
    "a.__dict__"
   ]
  },
  {
   "cell_type": "code",
   "execution_count": null,
   "id": "9e6c3d41-1485-43b9-84d2-56352f406279",
   "metadata": {},
   "outputs": [],
   "source": []
  }
 ],
 "metadata": {
  "kernelspec": {
   "display_name": "Python 3 (ipykernel)",
   "language": "python",
   "name": "python3"
  },
  "language_info": {
   "codemirror_mode": {
    "name": "ipython",
    "version": 3
   },
   "file_extension": ".py",
   "mimetype": "text/x-python",
   "name": "python",
   "nbconvert_exporter": "python",
   "pygments_lexer": "ipython3",
   "version": "3.11.7"
  }
 },
 "nbformat": 4,
 "nbformat_minor": 5
}
