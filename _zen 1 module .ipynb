{
 "cells": [
  {
   "cell_type": "markdown",
   "id": "62eec4c4-4f29-4b81-b11b-d4802dc96872",
   "metadata": {},
   "source": [
    "ZEN PYTHON "
   ]
  },
  {
   "cell_type": "code",
   "execution_count": null,
   "id": "755c97c4-f7b8-46f7-a238-4d0d8fa6c301",
   "metadata": {},
   "outputs": [],
   "source": [
    "#we dont need to put any number ,... the code will populate the number itself \n",
    "a = [1,2,3,4]"
   ]
  },
  {
   "cell_type": "markdown",
   "id": "4f07bdf6-bb6b-4f4a-901f-882e6e3d6262",
   "metadata": {},
   "source": [
    "LIST COMPREHENSION "
   ]
  },
  {
   "cell_type": "code",
   "execution_count": 2,
   "id": "c3e68ba7-97c7-4165-baa9-86c0526473a0",
   "metadata": {},
   "outputs": [],
   "source": [
    "a=[1,2,3]"
   ]
  },
  {
   "cell_type": "code",
   "execution_count": 3,
   "id": "9aebddc0-3e89-46b9-b432-775e0c8016fb",
   "metadata": {},
   "outputs": [],
   "source": [
    "a.append(4)"
   ]
  },
  {
   "cell_type": "code",
   "execution_count": 4,
   "id": "198b29c7-c2c7-4f21-b9d4-8a8522bc61c2",
   "metadata": {},
   "outputs": [
    {
     "data": {
      "text/plain": [
       "[1, 2, 3, 4]"
      ]
     },
     "execution_count": 4,
     "metadata": {},
     "output_type": "execute_result"
    }
   ],
   "source": [
    "a"
   ]
  },
  {
   "cell_type": "code",
   "execution_count": 5,
   "id": "350896ad-4280-4ade-a2c1-c876a0d9fd51",
   "metadata": {},
   "outputs": [],
   "source": [
    "b = []"
   ]
  },
  {
   "cell_type": "code",
   "execution_count": 6,
   "id": "a63d7a2b-1725-479a-a7bb-b1af340c8233",
   "metadata": {},
   "outputs": [
    {
     "data": {
      "text/plain": [
       "[]"
      ]
     },
     "execution_count": 6,
     "metadata": {},
     "output_type": "execute_result"
    }
   ],
   "source": [
    "b"
   ]
  },
  {
   "cell_type": "code",
   "execution_count": 7,
   "id": "ac41aa4e-5801-42c3-885d-95af986dac85",
   "metadata": {},
   "outputs": [
    {
     "name": "stdout",
     "output_type": "stream",
     "text": [
      "1\n",
      "2\n",
      "3\n",
      "4\n",
      "5\n",
      "6\n",
      "7\n",
      "8\n",
      "9\n"
     ]
    }
   ],
   "source": [
    "for i in range (1,10):\n",
    "    print (i)\n",
    "    b.append(i)"
   ]
  },
  {
   "cell_type": "code",
   "execution_count": 8,
   "id": "13f8c3ef-70cb-460e-858b-de05daacb9bd",
   "metadata": {},
   "outputs": [
    {
     "data": {
      "text/plain": [
       "[1, 2, 3, 4, 5, 6, 7, 8, 9]"
      ]
     },
     "execution_count": 8,
     "metadata": {},
     "output_type": "execute_result"
    }
   ],
   "source": [
    "b"
   ]
  },
  {
   "cell_type": "code",
   "execution_count": 9,
   "id": "4b10d148-5eb7-4291-9b45-b47551d01c73",
   "metadata": {},
   "outputs": [
    {
     "data": {
      "text/plain": [
       "[1, 2, 3, 4]"
      ]
     },
     "execution_count": 9,
     "metadata": {},
     "output_type": "execute_result"
    }
   ],
   "source": [
    "a"
   ]
  },
  {
   "cell_type": "code",
   "execution_count": 10,
   "id": "d34358ca-47a2-4e45-9565-5907cabf322b",
   "metadata": {},
   "outputs": [
    {
     "data": {
      "text/plain": [
       "[1, 2, 3, 4, 5, 6, 7, 8, 9]"
      ]
     },
     "execution_count": 10,
     "metadata": {},
     "output_type": "execute_result"
    }
   ],
   "source": [
    "b"
   ]
  },
  {
   "cell_type": "code",
   "execution_count": 11,
   "id": "2f592d63-defa-4785-ac9d-55930ea4ad6c",
   "metadata": {},
   "outputs": [],
   "source": [
    "# to find even and odd \n",
    "odd = []\n",
    "even = []"
   ]
  },
  {
   "cell_type": "code",
   "execution_count": 13,
   "id": "2a6e5797-1580-4269-9426-0bfa15941788",
   "metadata": {},
   "outputs": [
    {
     "name": "stdout",
     "output_type": "stream",
     "text": [
      "1\n",
      "2\n",
      "3\n",
      "4\n",
      "5\n",
      "6\n",
      "7\n",
      "8\n",
      "9\n"
     ]
    }
   ],
   "source": [
    "for i in b:\n",
    "    if i % 2 == 0:\n",
    "        print(i)\n",
    "        even.append(i)\n",
    "    else:\n",
    "        print(i)\n",
    "        odd.append(i)"
   ]
  },
  {
   "cell_type": "code",
   "execution_count": 14,
   "id": "23d37654-cdfd-4582-9f4b-e7a9af64ca42",
   "metadata": {},
   "outputs": [
    {
     "data": {
      "text/plain": [
       "[1, 3, 5, 7, 9]"
      ]
     },
     "execution_count": 14,
     "metadata": {},
     "output_type": "execute_result"
    }
   ],
   "source": [
    "odd"
   ]
  },
  {
   "cell_type": "code",
   "execution_count": 15,
   "id": "c3c598c6-70f6-461c-8147-1aac0c78a71e",
   "metadata": {},
   "outputs": [
    {
     "data": {
      "text/plain": [
       "[2, 4, 6, 8]"
      ]
     },
     "execution_count": 15,
     "metadata": {},
     "output_type": "execute_result"
    }
   ],
   "source": [
    "even"
   ]
  },
  {
   "cell_type": "raw",
   "id": "8da4ab43-f072-4f71-a8a0-b10c5a56b193",
   "metadata": {},
   "source": [
    "INSERT in list comprehension"
   ]
  },
  {
   "cell_type": "code",
   "execution_count": 16,
   "id": "08ea1595-5ae7-44db-a32f-de2dd0f688aa",
   "metadata": {},
   "outputs": [],
   "source": [
    "#allow us to add some element in middle of the list\n",
    "b.insert(2,22)"
   ]
  },
  {
   "cell_type": "code",
   "execution_count": 17,
   "id": "d93165d6-0471-4096-b4ef-422a43062e99",
   "metadata": {},
   "outputs": [
    {
     "data": {
      "text/plain": [
       "[1, 2, 22, 3, 4, 5, 6, 7, 8, 9]"
      ]
     },
     "execution_count": 17,
     "metadata": {},
     "output_type": "execute_result"
    }
   ],
   "source": [
    "b"
   ]
  },
  {
   "cell_type": "markdown",
   "id": "49e86a54-ce6c-49a6-a90c-2496bd09772e",
   "metadata": {},
   "source": [
    "FUNCTIONS"
   ]
  },
  {
   "cell_type": "code",
   "execution_count": 25,
   "id": "5216dae5-8a98-4a09-b5f4-e579fe672cb9",
   "metadata": {},
   "outputs": [],
   "source": [
    "#used to keep the code clean and tidy to the modular of the code \n",
    "# group of codes which is assigned to do 2/3 tasks\n",
    "def calculate ():\n",
    "    a = 2\n",
    "    b = 3\n",
    "    c = a + b\n",
    "    print(c)\n",
    "# we did not call the code so it does not give us output"
   ]
  },
  {
   "cell_type": "code",
   "execution_count": 26,
   "id": "2a736afe-ef01-45fd-ae3f-fda4f1e4d83b",
   "metadata": {},
   "outputs": [
    {
     "name": "stdout",
     "output_type": "stream",
     "text": [
      "5\n"
     ]
    }
   ],
   "source": [
    "calculate()#to call the code , if we wont call , it wont print any output"
   ]
  },
  {
   "cell_type": "code",
   "execution_count": 27,
   "id": "627d70d3-d808-4e74-b8ae-88c3cff5970d",
   "metadata": {},
   "outputs": [
    {
     "name": "stdout",
     "output_type": "stream",
     "text": [
      "5\n"
     ]
    },
    {
     "ename": "TypeError",
     "evalue": "unsupported operand type(s) for +: 'NoneType' and 'int'",
     "output_type": "error",
     "traceback": [
      "\u001b[1;31m---------------------------------------------------------------------------\u001b[0m",
      "\u001b[1;31mTypeError\u001b[0m                                 Traceback (most recent call last)",
      "Cell \u001b[1;32mIn[27], line 1\u001b[0m\n\u001b[1;32m----> 1\u001b[0m \u001b[43mcalculate\u001b[49m\u001b[43m(\u001b[49m\u001b[43m)\u001b[49m\u001b[43m \u001b[49m\u001b[38;5;241;43m+\u001b[39;49m\u001b[43m \u001b[49m\u001b[38;5;241;43m20\u001b[39;49m\n",
      "\u001b[1;31mTypeError\u001b[0m: unsupported operand type(s) for +: 'NoneType' and 'int'"
     ]
    }
   ],
   "source": [
    "calculate() + 20 # nonetype means "
   ]
  },
  {
   "cell_type": "code",
   "execution_count": 35,
   "id": "9656285e-d308-46f8-8ca9-eddca5850aa0",
   "metadata": {},
   "outputs": [],
   "source": [
    "# whenever ans is not given , we need to use return to call\n",
    "def calculate_1():\n",
    "    a = 2\n",
    "    b = 3\n",
    "    c = a + b\n",
    "    return(c)\n"
   ]
  },
  {
   "cell_type": "code",
   "execution_count": 36,
   "id": "582f6f85-b994-4f35-bbe5-115006fdfd83",
   "metadata": {},
   "outputs": [
    {
     "data": {
      "text/plain": [
       "5"
      ]
     },
     "execution_count": 36,
     "metadata": {},
     "output_type": "execute_result"
    }
   ],
   "source": [
    "calculate_1()"
   ]
  },
  {
   "cell_type": "code",
   "execution_count": 38,
   "id": "6f71b77c-55e5-47d7-b7d5-72f6ce1fd26d",
   "metadata": {},
   "outputs": [
    {
     "data": {
      "text/plain": [
       "25"
      ]
     },
     "execution_count": 38,
     "metadata": {},
     "output_type": "execute_result"
    }
   ],
   "source": [
    "calculate_1() + 20"
   ]
  },
  {
   "cell_type": "code",
   "execution_count": 1,
   "id": "b957d1c4-dbac-4496-a44d-9e5ddf088307",
   "metadata": {},
   "outputs": [],
   "source": [
    "# in large amount of dataset , to fetch a particular data we can use (control + f) to find a particular data"
   ]
  },
  {
   "cell_type": "code",
   "execution_count": 51,
   "id": "3f448860-8b4d-4305-82ca-b34d1b599db1",
   "metadata": {},
   "outputs": [],
   "source": [
    "def calculate_1(a,b=10):\n",
    "    c = a + b\n",
    "    print(c)\n"
   ]
  },
  {
   "cell_type": "code",
   "execution_count": 52,
   "id": "22c8bf1c-65ad-4870-bc4a-a3491fc4e7fa",
   "metadata": {},
   "outputs": [
    {
     "name": "stdout",
     "output_type": "stream",
     "text": [
      "30\n"
     ]
    }
   ],
   "source": [
    "calculate_1(10,20)"
   ]
  },
  {
   "cell_type": "code",
   "execution_count": 50,
   "id": "72f2385f-4176-4a67-bb1c-3adfe071a28a",
   "metadata": {},
   "outputs": [
    {
     "name": "stdout",
     "output_type": "stream",
     "text": [
      "14\n"
     ]
    }
   ],
   "source": [
    "calculate_1(4)"
   ]
  },
  {
   "cell_type": "markdown",
   "id": "d7c7d952-9bce-434b-92ee-cb0e82fad025",
   "metadata": {},
   "source": [
    "GLOBAL VARIABLE AND LOCAL VARIABLE "
   ]
  },
  {
   "cell_type": "code",
   "execution_count": null,
   "id": "de8f5e56-80a5-42bd-a2aa-c4fe54d531ea",
   "metadata": {},
   "outputs": [],
   "source": [
    "\n",
    "# global variable: whenevere a variable is declared outside the function \n",
    "# local variable : variable declare only inside functions "
   ]
  },
  {
   "cell_type": "code",
   "execution_count": 55,
   "id": "c1f0dec0-b2a7-415c-b31b-79291f07f51d",
   "metadata": {},
   "outputs": [],
   "source": [
    "g = 20\n",
    "def calculate_1():\n",
    "    a = 2\n",
    "    j = 2\n",
    "    print(a)\n",
    "    print(g)\n",
    "    print(j)\n"
   ]
  },
  {
   "cell_type": "code",
   "execution_count": 56,
   "id": "b8c3d801-b86b-4df2-8093-f4b9aeb3857f",
   "metadata": {},
   "outputs": [
    {
     "name": "stdout",
     "output_type": "stream",
     "text": [
      "2\n",
      "20\n",
      "2\n"
     ]
    }
   ],
   "source": [
    "calculate_1()"
   ]
  },
  {
   "cell_type": "code",
   "execution_count": 57,
   "id": "88a54a5a-2c74-4e17-a650-22106aeb768f",
   "metadata": {},
   "outputs": [
    {
     "name": "stdout",
     "output_type": "stream",
     "text": [
      "20\n"
     ]
    }
   ],
   "source": [
    "print(g)"
   ]
  },
  {
   "cell_type": "code",
   "execution_count": 58,
   "id": "bf0a6fff-5281-4f7f-a60f-4f50dd7c4c4d",
   "metadata": {},
   "outputs": [
    {
     "ename": "NameError",
     "evalue": "name 'j' is not defined",
     "output_type": "error",
     "traceback": [
      "\u001b[1;31m---------------------------------------------------------------------------\u001b[0m",
      "\u001b[1;31mNameError\u001b[0m                                 Traceback (most recent call last)",
      "Cell \u001b[1;32mIn[58], line 1\u001b[0m\n\u001b[1;32m----> 1\u001b[0m \u001b[38;5;28mprint\u001b[39m(\u001b[43mj\u001b[49m)\n",
      "\u001b[1;31mNameError\u001b[0m: name 'j' is not defined"
     ]
    }
   ],
   "source": [
    "print(j)"
   ]
  },
  {
   "cell_type": "markdown",
   "id": "2d4ad70f-5fa1-4b0c-ba8a-cf0ba49e2f05",
   "metadata": {},
   "source": [
    "LAMBDA FUNCTION  which are called as anonymous fuctions (unnamed/unknown functions), alive only for shorter duration\n",
    "whenever func is to do smaller functions we can declare this , it will live for only for shorter duration "
   ]
  },
  {
   "cell_type": "code",
   "execution_count": 60,
   "id": "1d3da578-a6de-4361-beba-704dbeab7562",
   "metadata": {},
   "outputs": [],
   "source": [
    "def calculate_1():\n",
    "    a = 2\n",
    "    b = 3\n",
    "    c = a + b\n",
    "    return(c)"
   ]
  },
  {
   "cell_type": "code",
   "execution_count": 61,
   "id": "85cdad47-37b4-4754-bae9-975b30f5a818",
   "metadata": {},
   "outputs": [
    {
     "data": {
      "text/plain": [
       "5"
      ]
     },
     "execution_count": 61,
     "metadata": {},
     "output_type": "execute_result"
    }
   ],
   "source": [
    "calculate_1()"
   ]
  },
  {
   "cell_type": "code",
   "execution_count": 62,
   "id": "b1bb0e2c-ea36-4661-a569-da22e220e6c9",
   "metadata": {},
   "outputs": [],
   "source": [
    "n = lambda a,b: a+b"
   ]
  },
  {
   "cell_type": "code",
   "execution_count": 63,
   "id": "71641e1d-ca99-4044-8cc6-1ff91fe66fcd",
   "metadata": {},
   "outputs": [
    {
     "data": {
      "text/plain": [
       "6"
      ]
     },
     "execution_count": 63,
     "metadata": {},
     "output_type": "execute_result"
    }
   ],
   "source": [
    "n(2,4)"
   ]
  },
  {
   "cell_type": "code",
   "execution_count": null,
   "id": "8ead1743-ec98-4549-8f09-4391b4442e41",
   "metadata": {},
   "outputs": [],
   "source": [
    "# assignment: use the lambda to check even or odd"
   ]
  },
  {
   "cell_type": "code",
   "execution_count": 2,
   "id": "097ae63c-d90f-42e5-9c8f-bcffeac9bd3c",
   "metadata": {},
   "outputs": [
    {
     "data": {
      "text/plain": [
       "[2, 3, 4, 5, 6]"
      ]
     },
     "execution_count": 2,
     "metadata": {},
     "output_type": "execute_result"
    }
   ],
   "source": [
    "data = [1,2,3,4,5]\n",
    "new_data = []\n",
    "for num in data :\n",
    "    new_mark = num+1\n",
    "    new_data.append(new_mark)\n",
    "new_data"
   ]
  },
  {
   "cell_type": "code",
   "execution_count": 1,
   "id": "9d5a1bc3-2f58-4d49-9ab2-879ede388190",
   "metadata": {},
   "outputs": [
    {
     "name": "stdin",
     "output_type": "stream",
     "text": [
      "enter: 1090\n",
      "enter: 300\n"
     ]
    },
    {
     "data": {
      "text/plain": [
       "3270.0"
      ]
     },
     "execution_count": 1,
     "metadata": {},
     "output_type": "execute_result"
    }
   ],
   "source": [
    "# write a function that can ask a user  to write salary, tax based on that compute\n",
    "# write a tax in rs to be paid by the users \n",
    "def money():\n",
    "    salary=int(input('enter:'))\n",
    "    tax = int(input('enter:'))\n",
    "    total = salary*tax/100\n",
    "    return total\n",
    "money()"
   ]
  },
  {
   "cell_type": "code",
   "execution_count": null,
   "id": "f0c0aed3-ed66-4827-9c9c-f21d1cd78a33",
   "metadata": {},
   "outputs": [],
   "source": []
  },
  {
   "cell_type": "code",
   "execution_count": 6,
   "id": "0c373773-6b06-4c32-ba5a-c24252435d55",
   "metadata": {},
   "outputs": [
    {
     "name": "stdin",
     "output_type": "stream",
     "text": [
      "enter: 1000.2\n",
      "enter: 10\n"
     ]
    },
    {
     "data": {
      "text/plain": [
       "100.02"
      ]
     },
     "execution_count": 6,
     "metadata": {},
     "output_type": "execute_result"
    }
   ],
   "source": [
    "# write a function that can ask a user  to write salary, tax based on that compute\n",
    "# write a tax in rs to be paid by the users \n",
    "def money():\n",
    "    salary=float(input('enter:'))\n",
    "    tax = float(input('enter:'))\n",
    "    total = salary*tax/100\n",
    "    return total\n",
    "money()"
   ]
  },
  {
   "cell_type": "code",
   "execution_count": 13,
   "id": "39df65f7-458b-4197-b6a7-32e8c80d8c8a",
   "metadata": {},
   "outputs": [
    {
     "name": "stdin",
     "output_type": "stream",
     "text": [
      "enter: 109.43\n",
      "enter: 998.43\n",
      "enter: 876.4\n"
     ]
    },
    {
     "ename": "OverflowError",
     "evalue": "(34, 'Result too large')",
     "output_type": "error",
     "traceback": [
      "\u001b[1;31m---------------------------------------------------------------------------\u001b[0m",
      "\u001b[1;31mOverflowError\u001b[0m                             Traceback (most recent call last)",
      "Cell \u001b[1;32mIn[13], line 6\u001b[0m\n\u001b[0;32m      4\u001b[0m     n\u001b[38;5;241m=\u001b[39m \u001b[38;5;28mfloat\u001b[39m(\u001b[38;5;28minput\u001b[39m(\u001b[38;5;124m'\u001b[39m\u001b[38;5;124menter:\u001b[39m\u001b[38;5;124m'\u001b[39m))\n\u001b[0;32m      5\u001b[0m     value\u001b[38;5;241m=\u001b[39mp \u001b[38;5;241m+\u001b[39m p \u001b[38;5;241m*\u001b[39m(\u001b[38;5;241m1\u001b[39m \u001b[38;5;241m+\u001b[39m r\u001b[38;5;241m/\u001b[39m\u001b[38;5;241m100\u001b[39m)\u001b[38;5;241m*\u001b[39m\u001b[38;5;241m*\u001b[39mn\n\u001b[1;32m----> 6\u001b[0m mutual_fund()\n",
      "Cell \u001b[1;32mIn[13], line 5\u001b[0m, in \u001b[0;36mmutual_fund\u001b[1;34m()\u001b[0m\n\u001b[0;32m      3\u001b[0m r\u001b[38;5;241m=\u001b[39m \u001b[38;5;28mfloat\u001b[39m(\u001b[38;5;28minput\u001b[39m(\u001b[38;5;124m'\u001b[39m\u001b[38;5;124menter:\u001b[39m\u001b[38;5;124m'\u001b[39m))\n\u001b[0;32m      4\u001b[0m n\u001b[38;5;241m=\u001b[39m \u001b[38;5;28mfloat\u001b[39m(\u001b[38;5;28minput\u001b[39m(\u001b[38;5;124m'\u001b[39m\u001b[38;5;124menter:\u001b[39m\u001b[38;5;124m'\u001b[39m))\n\u001b[1;32m----> 5\u001b[0m value\u001b[38;5;241m=\u001b[39mp \u001b[38;5;241m+\u001b[39m p \u001b[38;5;241m*\u001b[39m(\u001b[38;5;241m1\u001b[39m \u001b[38;5;241m+\u001b[39m r\u001b[38;5;241m/\u001b[39m\u001b[38;5;241m100\u001b[39m)\u001b[38;5;241m*\u001b[39m\u001b[38;5;241m*\u001b[39mn\n",
      "\u001b[1;31mOverflowError\u001b[0m: (34, 'Result too large')"
     ]
    }
   ],
   "source": [
    "def mutual_fund():\n",
    "    p= float(input('enter:'))\n",
    "    r= float(input('enter:'))\n",
    "    n= float(input('enter:'))\n",
    "    value=p + p *(1 + r/100)**n\n",
    "mutual_fund()\n",
    "  "
   ]
  },
  {
   "cell_type": "code",
   "execution_count": 15,
   "id": "d8a82b62-5308-4518-afd3-e657963b5015",
   "metadata": {},
   "outputs": [
    {
     "name": "stdin",
     "output_type": "stream",
     "text": [
      "enter: 21.2\n",
      "enter: 23.4\n",
      "enter: 2.2\n"
     ]
    },
    {
     "data": {
      "text/plain": [
       "54.868922057660555"
      ]
     },
     "execution_count": 15,
     "metadata": {},
     "output_type": "execute_result"
    }
   ],
   "source": [
    "def mutual_fund():\n",
    "    p= float(input('enter:'))\n",
    "    r= float(input('enter:'))\n",
    "    n= float(input('enter:'))\n",
    "    value=p + p *(1 + r/100)**n\n",
    "    return value\n",
    "mutual_fund()\n",
    "  "
   ]
  },
  {
   "cell_type": "code",
   "execution_count": 16,
   "id": "5b2b3e19-bce8-46bd-af77-61642d4a8720",
   "metadata": {},
   "outputs": [
    {
     "data": {
      "text/plain": [
       "53"
      ]
     },
     "execution_count": 16,
     "metadata": {},
     "output_type": "execute_result"
    }
   ],
   "source": [
    "import math\n",
    "math.ceil(52.87)"
   ]
  },
  {
   "cell_type": "code",
   "execution_count": 17,
   "id": "10a77aaa-bfe4-445b-bdb6-503ca3c26ffc",
   "metadata": {},
   "outputs": [
    {
     "ename": "AttributeError",
     "evalue": "module 'math' has no attribute 'floar'",
     "output_type": "error",
     "traceback": [
      "\u001b[1;31m---------------------------------------------------------------------------\u001b[0m",
      "\u001b[1;31mAttributeError\u001b[0m                            Traceback (most recent call last)",
      "Cell \u001b[1;32mIn[17], line 2\u001b[0m\n\u001b[0;32m      1\u001b[0m \u001b[38;5;28;01mimport\u001b[39;00m \u001b[38;5;21;01mmath\u001b[39;00m\n\u001b[1;32m----> 2\u001b[0m math\u001b[38;5;241m.\u001b[39mfloar(\u001b[38;5;241m2.32\u001b[39m)\n",
      "\u001b[1;31mAttributeError\u001b[0m: module 'math' has no attribute 'floar'"
     ]
    }
   ],
   "source": [
    "import math\n",
    "math.floar(2.32)"
   ]
  },
  {
   "cell_type": "code",
   "execution_count": 18,
   "id": "bbaf2484-6257-461f-90f3-f5a6c4f90b74",
   "metadata": {},
   "outputs": [
    {
     "data": {
      "text/plain": [
       "3"
      ]
     },
     "execution_count": 18,
     "metadata": {},
     "output_type": "execute_result"
    }
   ],
   "source": [
    "import math\n",
    "math.ceil(2.001)"
   ]
  },
  {
   "cell_type": "code",
   "execution_count": 19,
   "id": "0b7131c3-93d7-41da-818f-256b64fe08a4",
   "metadata": {},
   "outputs": [
    {
     "data": {
      "text/plain": [
       "2"
      ]
     },
     "execution_count": 19,
     "metadata": {},
     "output_type": "execute_result"
    }
   ],
   "source": [
    "import math\n",
    "math.floor(2.3)"
   ]
  },
  {
   "cell_type": "code",
   "execution_count": 21,
   "id": "c3152fb6-6b25-409c-8b9e-16c81c8153b0",
   "metadata": {},
   "outputs": [
    {
     "data": {
      "text/plain": [
       "8.0"
      ]
     },
     "execution_count": 21,
     "metadata": {},
     "output_type": "execute_result"
    }
   ],
   "source": [
    "import math\n",
    "math.pow(2,3)\n"
   ]
  },
  {
   "cell_type": "code",
   "execution_count": 22,
   "id": "be8ce1d5-b283-4b01-928f-d025da39eb52",
   "metadata": {},
   "outputs": [
    {
     "data": {
      "text/plain": [
       "2"
      ]
     },
     "execution_count": 22,
     "metadata": {},
     "output_type": "execute_result"
    }
   ],
   "source": [
    "math.gcd(12,2)"
   ]
  },
  {
   "cell_type": "code",
   "execution_count": 23,
   "id": "cbca570b-a67e-4791-86bc-1ff91e3e5a87",
   "metadata": {},
   "outputs": [
    {
     "data": {
      "text/plain": [
       "1"
      ]
     },
     "execution_count": 23,
     "metadata": {},
     "output_type": "execute_result"
    }
   ],
   "source": [
    "math.gcd(250,3)\n"
   ]
  },
  {
   "cell_type": "code",
   "execution_count": 24,
   "id": "0e21734e-ebdb-440d-81ea-19e5a9c4c0a1",
   "metadata": {},
   "outputs": [
    {
     "data": {
      "text/plain": [
       "750"
      ]
     },
     "execution_count": 24,
     "metadata": {},
     "output_type": "execute_result"
    }
   ],
   "source": [
    "math.lcm(250,3)"
   ]
  },
  {
   "cell_type": "code",
   "execution_count": 26,
   "id": "88d05323-7823-4e30-b44a-0650059f1277",
   "metadata": {},
   "outputs": [
    {
     "data": {
      "text/plain": [
       "3.141592653589793"
      ]
     },
     "execution_count": 26,
     "metadata": {},
     "output_type": "execute_result"
    }
   ],
   "source": [
    "math.pi\n"
   ]
  },
  {
   "cell_type": "code",
   "execution_count": 27,
   "id": "451dd60f-d144-482d-99b7-5ea8d198aefc",
   "metadata": {},
   "outputs": [
    {
     "data": {
      "text/plain": [
       "2.718281828459045"
      ]
     },
     "execution_count": 27,
     "metadata": {},
     "output_type": "execute_result"
    }
   ],
   "source": [
    "math.e"
   ]
  },
  {
   "cell_type": "code",
   "execution_count": 29,
   "id": "4ef1f39f-09da-4bb2-acee-c632d16e5155",
   "metadata": {},
   "outputs": [
    {
     "ename": "AttributeError",
     "evalue": "module 'math' has no attribute 'abs'",
     "output_type": "error",
     "traceback": [
      "\u001b[1;31m---------------------------------------------------------------------------\u001b[0m",
      "\u001b[1;31mAttributeError\u001b[0m                            Traceback (most recent call last)",
      "Cell \u001b[1;32mIn[29], line 1\u001b[0m\n\u001b[1;32m----> 1\u001b[0m math\u001b[38;5;241m.\u001b[39mabs(\u001b[38;5;241m-\u001b[39m\u001b[38;5;241m4\u001b[39m)\n",
      "\u001b[1;31mAttributeError\u001b[0m: module 'math' has no attribute 'abs'"
     ]
    }
   ],
   "source": [
    "math.abs(-4)"
   ]
  },
  {
   "cell_type": "code",
   "execution_count": 30,
   "id": "f9c3ca59-ac7d-41dc-9268-34399c9def2a",
   "metadata": {},
   "outputs": [
    {
     "data": {
      "text/plain": [
       "2"
      ]
     },
     "execution_count": 30,
     "metadata": {},
     "output_type": "execute_result"
    }
   ],
   "source": [
    "abs(-2)\n"
   ]
  },
  {
   "cell_type": "code",
   "execution_count": 31,
   "id": "334dd78a-33ff-40a9-8dfa-799967d595e5",
   "metadata": {},
   "outputs": [
    {
     "data": {
      "text/plain": [
       "20.0"
      ]
     },
     "execution_count": 31,
     "metadata": {},
     "output_type": "execute_result"
    }
   ],
   "source": [
    "data = [2,3,4,5,6]\n",
    "math.fsum(data)"
   ]
  },
  {
   "cell_type": "code",
   "execution_count": 32,
   "id": "5285015f-86e6-46fc-8ecb-1c9f3329325e",
   "metadata": {},
   "outputs": [],
   "source": [
    "n = lambda a,b: a+b"
   ]
  },
  {
   "cell_type": "code",
   "execution_count": 34,
   "id": "61c90981-b7de-4f96-9cbb-f31c2ba2fc83",
   "metadata": {},
   "outputs": [
    {
     "data": {
      "text/plain": [
       "9"
      ]
     },
     "execution_count": 34,
     "metadata": {},
     "output_type": "execute_result"
    }
   ],
   "source": [
    "9"
   ]
  },
  {
   "cell_type": "code",
   "execution_count": 37,
   "id": "0e299b2c-0ab4-4758-b20a-6a486a7628b7",
   "metadata": {},
   "outputs": [
    {
     "name": "stdin",
     "output_type": "stream",
     "text": [
      "enter: 109\n",
      "enter: 897\n"
     ]
    },
    {
     "data": {
      "text/plain": [
       "977.73"
      ]
     },
     "execution_count": 37,
     "metadata": {},
     "output_type": "execute_result"
    }
   ],
   "source": [
    "amount = lambda salary,tax_rate : salary*tax_rate / 100 \n",
    "sal = float(input('enter:'))\n",
    "tax_rate = float(input('enter:'))\n",
    "amount (sal,tax_rate)"
   ]
  },
  {
   "cell_type": "code",
   "execution_count": 41,
   "id": "e715a1f5-2da5-4ef2-90e5-0f171fef01f7",
   "metadata": {},
   "outputs": [
    {
     "data": {
      "text/plain": [
       "['raqhu']"
      ]
     },
     "execution_count": 41,
     "metadata": {},
     "output_type": "execute_result"
    }
   ],
   "source": [
    "#to filter out data \n",
    "data= ['abu','biji','cjitl','dod','god','raqhu','ybuy','kjhhy']\n",
    "list(filter(lambda name : name[0] == 'r',data))"
   ]
  },
  {
   "cell_type": "code",
   "execution_count": 43,
   "id": "5143f189-96ce-4be0-9c21-9f95b80df4a4",
   "metadata": {},
   "outputs": [
    {
     "data": {
      "text/plain": [
       "[]"
      ]
     },
     "execution_count": 43,
     "metadata": {},
     "output_type": "execute_result"
    }
   ],
   "source": [
    "data= ['abu','biji','cjitl','dod','god','raqhu','ybuy','kjhhy']\n",
    "list(filter(lambda name : name[-2] == 'r',data))"
   ]
  },
  {
   "cell_type": "code",
   "execution_count": 45,
   "id": "779ba6a3-f846-4b2f-8a70-0bb2a356039a",
   "metadata": {},
   "outputs": [
    {
     "name": "stdout",
     "output_type": "stream",
     "text": [
      "1\n",
      "2\n",
      "3\n",
      "4\n",
      "5\n",
      "6\n",
      "7\n"
     ]
    }
   ],
   "source": [
    "for i in range(1,8):\n",
    "    print(i)"
   ]
  },
  {
   "cell_type": "code",
   "execution_count": 46,
   "id": "6dc1b87c-070e-48fa-a11e-348311970023",
   "metadata": {},
   "outputs": [
    {
     "data": {
      "text/plain": [
       "1"
      ]
     },
     "execution_count": 46,
     "metadata": {},
     "output_type": "execute_result"
    }
   ],
   "source": [
    "import math\n",
    "math.gcd(245,786)\n"
   ]
  },
  {
   "cell_type": "code",
   "execution_count": 3,
   "id": "b20d18e7-8cee-494b-a3f2-a193f80040fc",
   "metadata": {},
   "outputs": [
    {
     "ename": "IndentationError",
     "evalue": "expected an indented block after function definition on line 4 (4050115770.py, line 5)",
     "output_type": "error",
     "traceback": [
      "\u001b[1;36m  Cell \u001b[1;32mIn[3], line 5\u001b[1;36m\u001b[0m\n\u001b[1;33m    for i in range (5):\u001b[0m\n\u001b[1;37m    ^\u001b[0m\n\u001b[1;31mIndentationError\u001b[0m\u001b[1;31m:\u001b[0m expected an indented block after function definition on line 4\n"
     ]
    }
   ],
   "source": [
    "#write a code eto take name, age , email as input from 5 candidates \n",
    "# use a for loop and add the data in the form of list of dictionary \n",
    "\n",
    "def salary():\n",
    "for i in range (5):\n",
    "    name = input(\"enter your name:\")\n",
    "    age = int(input(\"enter your age:\"))\n",
    "    email = input(\"enter your email:\")\n",
    "    data.append({'name':name,'age':age, 'email':email})\n",
    "salary()\n",
    "  \n",
    "    "
   ]
  },
  {
   "cell_type": "code",
   "execution_count": null,
   "id": "6f0d2bb3-9e63-4ff6-966a-8f70d62045db",
   "metadata": {},
   "outputs": [],
   "source": [
    "# // -- floor\n",
    "# int does not support append functions "
   ]
  },
  {
   "cell_type": "code",
   "execution_count": 2,
   "id": "278f9d7a-3974-43cf-9891-7de43f8233dd",
   "metadata": {},
   "outputs": [
    {
     "name": "stdin",
     "output_type": "stream",
     "text": [
      "enter your name: na\n",
      "enter your age: 1\n",
      "enter your email: nagu@mail\n",
      "enter your name: \n",
      "enter your age: 76\n",
      "enter your email: nhygy\n",
      "enter your name: naveen\n",
      "enter your age: 28\n",
      "enter your email: nagu@\n",
      "enter your name: nagu\n",
      "enter your age: 21\n",
      "enter your email: naveen@\n",
      "enter your name: kisoru\n",
      "enter your age: 27\n",
      "enter your email: @mail\n"
     ]
    },
    {
     "data": {
      "text/plain": [
       "[{'name': 'na', 'age': 1, 'email': 'nagu@mail'},\n",
       " {'name': '', 'age': 76, 'email': 'nhygy'},\n",
       " {'name': 'naveen', 'age': 28, 'email': 'nagu@'},\n",
       " {'name': 'nagu', 'age': 21, 'email': 'naveen@'},\n",
       " {'name': 'kisoru', 'age': 27, 'email': '@mail'}]"
      ]
     },
     "execution_count": 2,
     "metadata": {},
     "output_type": "execute_result"
    }
   ],
   "source": [
    "#write a code eto take name, age , email as input from 5 candidates \n",
    "# use a for loop and add the data in the form of list of dictionary\n",
    "data=[]\n",
    "for i in range (5):\n",
    "    name = input(\"enter your name:\")\n",
    "    age = int(input(\"enter your age:\"))\n",
    "    email = input(\"enter your email:\")\n",
    "    data.append({'name':name,'age':age, 'email':email})\n",
    "data"
   ]
  },
  {
   "cell_type": "code",
   "execution_count": null,
   "id": "10d227fb-3d69-4db6-a392-6e4067ab791e",
   "metadata": {},
   "outputs": [],
   "source": []
  }
 ],
 "metadata": {
  "kernelspec": {
   "display_name": "Python 3 (ipykernel)",
   "language": "python",
   "name": "python3"
  },
  "language_info": {
   "codemirror_mode": {
    "name": "ipython",
    "version": 3
   },
   "file_extension": ".py",
   "mimetype": "text/x-python",
   "name": "python",
   "nbconvert_exporter": "python",
   "pygments_lexer": "ipython3",
   "version": "3.11.7"
  }
 },
 "nbformat": 4,
 "nbformat_minor": 5
}
